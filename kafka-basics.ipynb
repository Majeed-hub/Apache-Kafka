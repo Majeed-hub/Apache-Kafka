{
 "cells": [
  {
   "cell_type": "code",
   "execution_count": null,
   "metadata": {},
   "outputs": [],
   "source": [
    "pip install kafka-python"
   ]
  },
  {
   "cell_type": "markdown",
   "metadata": {},
   "source": [
    "KafkaAdminClient Class\n",
    "The main purpose of KafkaAdminClient class is to enable fundamental administrative management operations\n",
    "on kafka server such as creating/deleting topic, retrieving, and updating topic configurations and so on.\n",
    "\n",
    "Let’s check some concrete code examples:\n",
    "Create a KafkaAdminClient object\n",
    "To use KafkaAdminClient, we first need to define and create a KafkaAdminClient object:\n",
    "bootstrap_servers=\"localhost:9092\" argument specifies the host/IP and port that the consumer should contact to\n",
    "bootstrap initial cluster metadata\n",
    "client_id specifies an id of current admin client"
   ]
  },
  {
   "cell_type": "code",
   "execution_count": null,
   "metadata": {},
   "outputs": [],
   "source": [
    "admin_client = KafkaAdminClient(\n",
    "    bootstrap_servers=\"localhost:9092\", client_id='test')"
   ]
  },
  {
   "cell_type": "markdown",
   "metadata": {},
   "source": [
    "Create new topics\n",
    "Next, the most common usage of admin_client is managing topics such as creating and deleting topics.\n",
    "\n",
    "To create new topics, we first need to define an empty topic list:\n",
    "Then we use the NewTopic class to create a topic with name equals bankbranch,\n",
    "partition nums equals to 2, and replication factor equals to 1.\n",
    "At last, we can use create_topics(...) method to create new topics:"
   ]
  },
  {
   "cell_type": "code",
   "execution_count": null,
   "metadata": {},
   "outputs": [],
   "source": [
    "topic_list = []\n",
    "new_topic = NewTopic(name=\"bankbranch\", num_partitions=2, replication_factor=1)\n",
    "topic_list.append(new_topic)"
   ]
  },
  {
   "cell_type": "code",
   "execution_count": null,
   "metadata": {},
   "outputs": [],
   "source": [
    "admin_client.create_topics(new_topics=topic_list)"
   ]
  },
  {
   "cell_type": "markdown",
   "metadata": {},
   "source": [
    "Describe a topic\n",
    "Once new topics are created, we can easily check its configuration details using describe_configs()\n",
    "method"
   ]
  },
  {
   "cell_type": "code",
   "execution_count": null,
   "metadata": {},
   "outputs": [],
   "source": [
    "configs = admin_client.describe_configs(\n",
    "    config_resources=[ConfigResource(ConfigResourceType.TOPIC, \"bankbranch\")])"
   ]
  },
  {
   "cell_type": "markdown",
   "metadata": {},
   "source": [
    "KafkaProducer\n",
    "Now we have a new bankbranch topic created, we can start produce messages to the topic.\n",
    "\n",
    "For kafka-python, we will use KafkaProducer class to produce messages.\n",
    "Since many real-world message values are in the format of JSON, we will show you how to publish JSON messages as an example.\n",
    "\n",
    "First, let’s define and create a KafkaProducer\n",
    "\n",
    "Since Kafka produces and consumes messages in raw bytes, we need to encode our JSON messages and serialize them\n",
    "into bytes.\n",
    "\n",
    "For the value_serializer argument, we define a lambda function to take a Python dict/list object and\n",
    "serialize it into bytes.\n",
    "\n",
    "Then, with the KafkaProducer created, we can use it to produce two ATM transaction messages in JSON format as follows:\n",
    "\n",
    "The first argument specifies the topic bankbranch to be sent, and the second argument represents\n",
    "the message value in a Python dict format and will be serialized into bytes.    "
   ]
  },
  {
   "cell_type": "code",
   "execution_count": null,
   "metadata": {},
   "outputs": [],
   "source": [
    "producer = KafkaProducer(\n",
    "    value_serializer=lambda v: json.dumps(v).encode('utf-8'))"
   ]
  },
  {
   "cell_type": "code",
   "execution_count": null,
   "metadata": {},
   "outputs": [],
   "source": [
    "producer.send(\"bankbranch\", {'atmid':1, 'transid':100})\n",
    "producer.send(\"bankbranch\", {'atmid':2, 'transid':101})"
   ]
  },
  {
   "cell_type": "markdown",
   "metadata": {},
   "source": [
    "KafkaConsumer\n",
    "In the previous step, we published two JSON messages. Now we can use the KafkaConsumer class to\n",
    "consume them.\n",
    "\n",
    "We just need to define and create a KafkaConsumer subscribing to the topic bankbranch:"
   ]
  },
  {
   "cell_type": "code",
   "execution_count": null,
   "metadata": {},
   "outputs": [],
   "source": [
    "consumer = KafkaConsumer('bankbranch')\n",
    "for msg in consumer:\n",
    "    print(msg.value.decode(\"utf-8\"))"
   ]
  }
 ],
 "metadata": {
  "language_info": {
   "name": "python"
  }
 },
 "nbformat": 4,
 "nbformat_minor": 2
}
